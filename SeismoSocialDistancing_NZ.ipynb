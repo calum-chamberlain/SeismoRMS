{
 "cells": [
  {
   "cell_type": "markdown",
   "metadata": {},
   "source": [
    "# Ground Motion Displacement RMS vs Time\n",
    "\n",
    "*an example simple tutorial for getting seismic data, computing the power spectral densities, extracting the RMS and plotting*\n",
    "\n",
    "Required:\n",
    "\n",
    "- python\n",
    "- obspy (and its dependencies)\n",
    "- pandas\n",
    "- jupyter\n",
    "- notebook\n",
    "\n",
    "this should be easy to set up in a conda env: ``conda create -c conda-forge -n covid python=3.7 obspy pandas jupyter notebook``\n",
    "\n",
    "Author: Thomas Lecocq @seismotom, Fred Massin @fmassin, Claudio Satriano @claudiodsf"
   ]
  },
  {
   "cell_type": "markdown",
   "metadata": {},
   "source": [
    "## Step 1: imports"
   ]
  },
  {
   "cell_type": "code",
   "execution_count": 1,
   "metadata": {},
   "outputs": [],
   "source": [
    "import datetime\n",
    "import os\n",
    "from glob import glob\n",
    "\n",
    "import matplotlib\n",
    "matplotlib.rcParams['pdf.fonttype'] = 42  # to edit text in Illustrator\n",
    "import matplotlib.pyplot as plt\n",
    "import matplotlib.ticker as ticker\n",
    "import matplotlib.patheffects as pe\n",
    "import numpy as np\n",
    "import pandas as pd\n",
    "\n",
    "from obspy import UTCDateTime, read\n",
    "from obspy.clients.fdsn import Client\n",
    "from obspy.signal import PPSD\n"
   ]
  },
  {
   "cell_type": "markdown",
   "metadata": {},
   "source": [
    "## Step 2: Define Start/End dates and Seismic Channel\n",
    "\n",
    "You'll have to make sure the seed_id you request is indeed available from the ``data_provider``"
   ]
  },
  {
   "cell_type": "code",
   "execution_count": 2,
   "metadata": {},
   "outputs": [],
   "source": [
    "start = UTCDateTime(\"2020-03-10\")\n",
    "# Leaving UTCDateTime() empty means \"now\":\n",
    "end = UTCDateTime()\n",
    "\n",
    "network = \"NZ\"\n",
    "station = \"FOZ\"\n",
    "location = \"11\"\n",
    "channel = \"HHZ\"\n",
    "dataset = \"WestCoast\"\n",
    "time_zone = \"New Zealand\"\n",
    "\n",
    "data_provider = \"GEONET\"\n",
    "logo = None #plt.imread('https://upload.wikimedia.org/wikipedia/commons/thumb/4/44/Logo_SED_2014.png/220px-Logo_SED_2014.png')\n",
    "bans = {\"2020-03-23 23:59\":'Level 3', \n",
    "        \"2020-03-25 23:59\":'Level 4'}\n"
   ]
  },
  {
   "cell_type": "markdown",
   "metadata": {},
   "source": [
    "## Step 3: Download the seismic waveform data\n",
    "\n",
    "This step is coded so that only the last day is redownloaded if the daily files are present on the disk.\n",
    "\n",
    "The request gets the target day +- 30 minutes to avoid having gaps at the end of each day (need 1 window covering midnight)."
   ]
  },
  {
   "cell_type": "code",
   "execution_count": 4,
   "metadata": {
    "scrolled": true
   },
   "outputs": [
    {
     "name": "stdout",
     "output_type": "stream",
     "text": [
      "WestCoast_2020-03-10_NZ.FOZ.11.HHZ.mseed\n",
      "WestCoast_2020-03-11_NZ.FOZ.11.HHZ.mseed\n",
      "WestCoast_2020-03-12_NZ.FOZ.11.HHZ.mseed\n",
      "WestCoast_2020-03-13_NZ.FOZ.11.HHZ.mseed\n",
      "WestCoast_2020-03-14_NZ.FOZ.11.HHZ.mseed\n",
      "WestCoast_2020-03-15_NZ.FOZ.11.HHZ.mseed\n",
      "WestCoast_2020-03-16_NZ.FOZ.11.HHZ.mseed\n",
      "WestCoast_2020-03-17_NZ.FOZ.11.HHZ.mseed\n",
      "WestCoast_2020-03-18_NZ.FOZ.11.HHZ.mseed\n",
      "WestCoast_2020-03-19_NZ.FOZ.11.HHZ.mseed\n",
      "WestCoast_2020-03-20_NZ.FOZ.11.HHZ.mseed\n",
      "WestCoast_2020-03-21_NZ.FOZ.11.HHZ.mseed\n",
      "WestCoast_2020-03-22_NZ.FOZ.11.HHZ.mseed\n",
      "WestCoast_2020-03-23_NZ.FOZ.11.HHZ.mseed\n",
      "WestCoast_2020-03-24_NZ.FOZ.11.HHZ.mseed\n",
      "WestCoast_2020-03-25_NZ.FOZ.11.HHZ.mseed\n",
      "WestCoast_2020-03-26_NZ.FOZ.11.HHZ.mseed\n",
      "WestCoast_2020-03-27_NZ.FOZ.11.HHZ.mseed\n",
      "WestCoast_2020-03-28_NZ.FOZ.11.HHZ.mseed\n",
      "WestCoast_2020-03-29_NZ.FOZ.11.HHZ.mseed\n",
      "WestCoast_2020-03-30_NZ.FOZ.11.HHZ.mseed\n",
      "WestCoast_2020-03-31_NZ.FOZ.11.HHZ.mseed\n",
      "WestCoast_2020-04-01_NZ.FOZ.11.HHZ.mseed\n",
      "WestCoast_2020-04-02_NZ.FOZ.11.HHZ.mseed\n",
      "WestCoast_2020-04-03_NZ.FOZ.11.HHZ.mseed\n",
      "WestCoast_2020-04-04_NZ.FOZ.11.HHZ.mseed\n",
      "WestCoast_2020-04-05_NZ.FOZ.11.HHZ.mseed\n",
      "WestCoast_2020-04-06_NZ.FOZ.11.HHZ.mseed\n",
      "WestCoast_2020-04-07_NZ.FOZ.11.HHZ.mseed\n",
      "WestCoast_2020-04-08_NZ.FOZ.11.HHZ.mseed\n",
      "WestCoast_2020-04-09_NZ.FOZ.11.HHZ.mseed\n",
      "WestCoast_2020-04-10_NZ.FOZ.11.HHZ.mseed\n",
      "No data available for request.\n",
      "Detailed response of server:\n",
      "\n",
      "\n"
     ]
    },
    {
     "name": "stderr",
     "output_type": "stream",
     "text": [
      "/home/chambeca/miniconda3/envs/eqcorrscan/lib/python3.7/site-packages/obspy/io/stationxml/core.py:98: UserWarning: The StationXML file has version 1, ObsPy can read versions (1.0, 1.1). Proceed with caution.\n",
      "  version, \", \".join(READABLE_VERSIONS)))\n"
     ]
    },
    {
     "name": "stdout",
     "output_type": "stream",
     "text": [
      "1 Trace(s) in Stream:\n",
      "NZ.FOZ.11.HHZ | 2020-04-09T23:29:59.483129Z - 2020-04-11T00:30:01.003129Z | 100.0 Hz, 9000153 samples\n",
      "WestCoast_2020-04-11_NZ.FOZ.11.HHZ.mseed\n",
      "No data available for request.\n",
      "Detailed response of server:\n",
      "\n",
      "\n"
     ]
    },
    {
     "name": "stderr",
     "output_type": "stream",
     "text": [
      "/home/chambeca/miniconda3/envs/eqcorrscan/lib/python3.7/site-packages/obspy/io/stationxml/core.py:98: UserWarning: The StationXML file has version 1, ObsPy can read versions (1.0, 1.1). Proceed with caution.\n",
      "  version, \", \".join(READABLE_VERSIONS)))\n"
     ]
    },
    {
     "name": "stdout",
     "output_type": "stream",
     "text": [
      "1 Trace(s) in Stream:\n",
      "NZ.FOZ.11.HHZ | 2020-04-10T23:30:04.623132Z - 2020-04-12T00:30:01.003132Z | 100.0 Hz, 8999639 samples\n",
      "WestCoast_2020-04-12_NZ.FOZ.11.HHZ.mseed\n",
      "No data available for request.\n",
      "Detailed response of server:\n",
      "\n",
      "\n"
     ]
    },
    {
     "name": "stderr",
     "output_type": "stream",
     "text": [
      "/home/chambeca/miniconda3/envs/eqcorrscan/lib/python3.7/site-packages/obspy/io/stationxml/core.py:98: UserWarning: The StationXML file has version 1, ObsPy can read versions (1.0, 1.1). Proceed with caution.\n",
      "  version, \", \".join(READABLE_VERSIONS)))\n"
     ]
    },
    {
     "name": "stdout",
     "output_type": "stream",
     "text": [
      "1 Trace(s) in Stream:\n",
      "NZ.FOZ.11.HHZ | 2020-04-11T23:30:00.433123Z - 2020-04-13T00:30:01.003123Z | 100.0 Hz, 9000058 samples\n",
      "WestCoast_2020-04-13_NZ.FOZ.11.HHZ.mseed\n",
      "No data available for request.\n",
      "Detailed response of server:\n",
      "\n",
      "\n"
     ]
    },
    {
     "name": "stderr",
     "output_type": "stream",
     "text": [
      "/home/chambeca/miniconda3/envs/eqcorrscan/lib/python3.7/site-packages/obspy/io/stationxml/core.py:98: UserWarning: The StationXML file has version 1, ObsPy can read versions (1.0, 1.1). Proceed with caution.\n",
      "  version, \", \".join(READABLE_VERSIONS)))\n"
     ]
    },
    {
     "name": "stdout",
     "output_type": "stream",
     "text": [
      "1 Trace(s) in Stream:\n",
      "NZ.FOZ.11.HHZ | 2020-04-12T23:30:00.923131Z - 2020-04-14T00:30:01.003131Z | 100.0 Hz, 9000009 samples\n",
      "WestCoast_2020-04-14_NZ.FOZ.11.HHZ.mseed\n",
      "No data available for request.\n",
      "Detailed response of server:\n",
      "\n",
      "\n"
     ]
    },
    {
     "name": "stderr",
     "output_type": "stream",
     "text": [
      "/home/chambeca/miniconda3/envs/eqcorrscan/lib/python3.7/site-packages/obspy/io/stationxml/core.py:98: UserWarning: The StationXML file has version 1, ObsPy can read versions (1.0, 1.1). Proceed with caution.\n",
      "  version, \", \".join(READABLE_VERSIONS)))\n"
     ]
    },
    {
     "name": "stdout",
     "output_type": "stream",
     "text": [
      "1 Trace(s) in Stream:\n",
      "NZ.FOZ.11.HHZ | 2020-04-13T23:30:00.683124Z - 2020-04-14T23:55:57.113124Z | 100.0 Hz, 8795644 samples\n",
      "Inventory created at 2020-04-08T21:51:56.000000Z\n",
      "\tCreated by: Delta\n",
      "\t\t    \n",
      "\tSending institution: GeoNet (WEL(GNS_Test))\n",
      "\tContains:\n",
      "\t\tNetworks (1):\n",
      "\t\t\tNZ\n",
      "\t\tStations (1):\n",
      "\t\t\tNZ.FOZ (Fox Glacier)\n",
      "\t\tChannels (1):\n",
      "\t\t\tNZ.FOZ.11.HHZ\n"
     ]
    },
    {
     "name": "stderr",
     "output_type": "stream",
     "text": [
      "/home/chambeca/miniconda3/envs/eqcorrscan/lib/python3.7/site-packages/obspy/io/stationxml/core.py:98: UserWarning: The StationXML file has version 1, ObsPy can read versions (1.0, 1.1). Proceed with caution.\n",
      "  version, \", \".join(READABLE_VERSIONS)))\n"
     ]
    }
   ],
   "source": [
    "datelist = pd.date_range(start.datetime, end.datetime, freq=\"D\")\n",
    "c = Client(data_provider)\n",
    "nrt_client = Client(\"http://service-nrt.geonet.org.nz\")\n",
    "\n",
    "nslc = \"{}.{}.{}.{}\".format(network, station, location, channel)\n",
    "# make sure that wildcard characters are not in nslc\n",
    "nslc = nslc.replace(\"*\", \"\").replace(\"?\", \"\")\n",
    "for day in datelist:\n",
    "    datestr = day.strftime(\"%Y-%m-%d\")\n",
    "    fn = \"{}_{}_{}.mseed\".format(dataset, datestr, nslc)\n",
    "    print(fn)\n",
    "    if day != datelist[-1] and os.path.isfile(fn):\n",
    "        continue\n",
    "    else:\n",
    "        args = (network, station, location, channel,\n",
    "                UTCDateTime(day)-1801, UTCDateTime(day)+86400+1801,)\n",
    "        try:\n",
    "            st = c.get_waveforms(*args, attach_response=True)\n",
    "        except Exception as e:\n",
    "            print(e)\n",
    "            st = nrt_client.get_waveforms(*args, attach_response=True)\n",
    "        print(st)\n",
    "        st.write(fn)\n",
    "resp = c.get_stations(UTCDateTime(day), network=network, station=station, location=location,\n",
    "                      channel=channel, level=\"response\")\n",
    "print(resp)\n"
   ]
  },
  {
   "cell_type": "markdown",
   "metadata": {},
   "source": [
    "## Step 4: Compute PPSDs using custom parameters\n",
    "\n",
    "These parameters are set to allow the PSDs to be \"nervous\", not as smooth as the default PQLX ones."
   ]
  },
  {
   "cell_type": "code",
   "execution_count": 5,
   "metadata": {},
   "outputs": [
    {
     "name": "stderr",
     "output_type": "stream",
     "text": [
      "/home/chambeca/miniconda3/envs/eqcorrscan/lib/python3.7/site-packages/obspy/signal/spectral_estimation.py:998: RuntimeWarning: Mean of empty slice.\n",
      "  smoothed_psd.append(specs.mean())\n",
      "/home/chambeca/miniconda3/envs/eqcorrscan/lib/python3.7/site-packages/numpy/core/_methods.py:161: RuntimeWarning: invalid value encountered in double_scalars\n",
      "  ret = ret.dtype.type(ret / rcount)\n"
     ]
    },
    {
     "name": "stdout",
     "output_type": "stream",
     "text": [
      "1 Trace(s) in Stream:\n",
      "NZ.FOZ.11.HHZ | 2020-03-09T23:29:59.003128Z - 2020-03-11T00:30:01.003128Z | 100.0 Hz, 9000201 samples\n",
      "1 Trace(s) in Stream:\n",
      "NZ.FOZ.11.HHZ | 2020-03-10T23:29:59.003130Z - 2020-03-12T00:30:01.003130Z | 100.0 Hz, 9000201 samples\n",
      "1 Trace(s) in Stream:\n",
      "NZ.FOZ.11.HHZ | 2020-03-11T23:29:59.003130Z - 2020-03-13T00:30:01.003130Z | 100.0 Hz, 9000201 samples\n",
      "1 Trace(s) in Stream:\n",
      "NZ.FOZ.11.HHZ | 2020-03-12T23:29:59.003125Z - 2020-03-14T00:30:01.003125Z | 100.0 Hz, 9000201 samples\n",
      "1 Trace(s) in Stream:\n",
      "NZ.FOZ.11.HHZ | 2020-03-13T23:29:59.003128Z - 2020-03-15T00:30:01.003128Z | 100.0 Hz, 9000201 samples\n",
      "1 Trace(s) in Stream:\n",
      "NZ.FOZ.11.HHZ | 2020-03-14T23:29:59.003131Z - 2020-03-16T00:30:01.003131Z | 100.0 Hz, 9000201 samples\n",
      "1 Trace(s) in Stream:\n",
      "NZ.FOZ.11.HHZ | 2020-03-15T23:29:59.003132Z - 2020-03-17T00:30:01.003132Z | 100.0 Hz, 9000201 samples\n",
      "1 Trace(s) in Stream:\n",
      "NZ.FOZ.11.HHZ | 2020-03-16T23:29:59.003132Z - 2020-03-18T00:30:01.003132Z | 100.0 Hz, 9000201 samples\n",
      "1 Trace(s) in Stream:\n",
      "NZ.FOZ.11.HHZ | 2020-03-17T23:29:59.003127Z - 2020-03-19T00:30:01.003127Z | 100.0 Hz, 9000201 samples\n",
      "1 Trace(s) in Stream:\n",
      "NZ.FOZ.11.HHZ | 2020-03-18T23:29:59.003148Z - 2020-03-20T00:30:01.003148Z | 100.0 Hz, 9000201 samples\n",
      "1 Trace(s) in Stream:\n",
      "NZ.FOZ.11.HHZ | 2020-03-19T23:29:59.003128Z - 2020-03-21T00:30:01.003128Z | 100.0 Hz, 9000201 samples\n",
      "1 Trace(s) in Stream:\n",
      "NZ.FOZ.11.HHZ | 2020-03-20T23:29:59.003129Z - 2020-03-22T00:30:01.003129Z | 100.0 Hz, 9000201 samples\n",
      "1 Trace(s) in Stream:\n",
      "NZ.FOZ.11.HHZ | 2020-03-21T23:29:59.003162Z - 2020-03-23T00:30:01.003162Z | 100.0 Hz, 9000201 samples\n",
      "1 Trace(s) in Stream:\n",
      "NZ.FOZ.11.HHZ | 2020-03-22T23:29:59.003130Z - 2020-03-24T00:30:01.003130Z | 100.0 Hz, 9000201 samples\n",
      "1 Trace(s) in Stream:\n",
      "NZ.FOZ.11.HHZ | 2020-03-23T23:29:59.003138Z - 2020-03-25T00:30:01.003138Z | 100.0 Hz, 9000201 samples\n",
      "1 Trace(s) in Stream:\n",
      "NZ.FOZ.11.HHZ | 2020-03-24T23:29:59.003129Z - 2020-03-26T00:30:01.003129Z | 100.0 Hz, 9000201 samples\n",
      "1 Trace(s) in Stream:\n",
      "NZ.FOZ.11.HHZ | 2020-03-25T23:29:59.003132Z - 2020-03-27T00:30:01.003132Z | 100.0 Hz, 9000201 samples\n",
      "1 Trace(s) in Stream:\n",
      "NZ.FOZ.11.HHZ | 2020-03-26T23:29:59.003129Z - 2020-03-28T00:30:01.003129Z | 100.0 Hz, 9000201 samples\n",
      "1 Trace(s) in Stream:\n",
      "NZ.FOZ.11.HHZ | 2020-03-27T23:29:59.003130Z - 2020-03-29T00:30:01.003130Z | 100.0 Hz, 9000201 samples\n",
      "1 Trace(s) in Stream:\n",
      "NZ.FOZ.11.HHZ | 2020-03-28T23:29:59.003120Z - 2020-03-30T00:30:01.003120Z | 100.0 Hz, 9000201 samples\n",
      "1 Trace(s) in Stream:\n",
      "NZ.FOZ.11.HHZ | 2020-03-29T23:29:59.003131Z - 2020-03-31T00:30:01.003131Z | 100.0 Hz, 9000201 samples\n",
      "1 Trace(s) in Stream:\n",
      "NZ.FOZ.11.HHZ | 2020-03-30T23:29:59.003149Z - 2020-04-01T00:30:01.003149Z | 100.0 Hz, 9000201 samples\n",
      "1 Trace(s) in Stream:\n",
      "NZ.FOZ.11.HHZ | 2020-03-31T23:29:59.003131Z - 2020-04-02T00:30:01.003131Z | 100.0 Hz, 9000201 samples\n",
      "1 Trace(s) in Stream:\n",
      "NZ.FOZ.11.HHZ | 2020-04-01T23:29:59.003124Z - 2020-04-03T00:30:01.003124Z | 100.0 Hz, 9000201 samples\n",
      "1 Trace(s) in Stream:\n",
      "NZ.FOZ.11.HHZ | 2020-04-02T23:29:59.003131Z - 2020-04-04T00:30:01.003131Z | 100.0 Hz, 9000201 samples\n",
      "1 Trace(s) in Stream:\n",
      "NZ.FOZ.11.HHZ | 2020-04-03T23:29:59.003120Z - 2020-04-05T00:30:01.003120Z | 100.0 Hz, 9000201 samples\n",
      "1 Trace(s) in Stream:\n",
      "NZ.FOZ.11.HHZ | 2020-04-04T23:29:59.003112Z - 2020-04-06T00:30:01.003112Z | 100.0 Hz, 9000201 samples\n",
      "1 Trace(s) in Stream:\n",
      "NZ.FOZ.11.HHZ | 2020-04-05T23:29:59.003126Z - 2020-04-07T00:30:01.003126Z | 100.0 Hz, 9000201 samples\n",
      "1 Trace(s) in Stream:\n",
      "NZ.FOZ.11.HHZ | 2020-04-06T23:29:59.003130Z - 2020-04-08T00:30:01.003130Z | 100.0 Hz, 9000201 samples\n",
      "1 Trace(s) in Stream:\n",
      "NZ.FOZ.11.HHZ | 2020-04-07T23:29:59.003130Z - 2020-04-09T00:00:04.483130Z | 100.0 Hz, 8820549 samples\n",
      "1 Trace(s) in Stream:\n",
      "NZ.FOZ.11.HHZ | 2020-04-08T23:29:59.003131Z - 2020-04-09T00:00:04.483131Z | 100.0 Hz, 180549 samples\n",
      "1 Trace(s) in Stream:\n",
      "NZ.FOZ.11.HHZ | 2020-04-09T23:29:59.483129Z - 2020-04-11T00:30:01.003129Z | 100.0 Hz, 9000153 samples\n",
      "1 Trace(s) in Stream:\n",
      "NZ.FOZ.11.HHZ | 2020-04-10T23:30:04.623132Z - 2020-04-12T00:30:01.003132Z | 100.0 Hz, 8999639 samples\n",
      "1 Trace(s) in Stream:\n",
      "NZ.FOZ.11.HHZ | 2020-04-11T23:30:00.433123Z - 2020-04-13T00:30:01.003123Z | 100.0 Hz, 9000058 samples\n",
      "1 Trace(s) in Stream:\n",
      "NZ.FOZ.11.HHZ | 2020-04-12T23:30:00.923131Z - 2020-04-14T00:30:01.003131Z | 100.0 Hz, 9000009 samples\n"
     ]
    }
   ],
   "source": [
    "for day in datelist:\n",
    "    datestr = day.strftime(\"%Y-%m-%d\")\n",
    "    fn_in = \"{}_{}_{}.mseed\".format(dataset, datestr, nslc)\n",
    "    if day == datelist[-1] :\n",
    "        continue\n",
    "    stall = read(fn_in)\n",
    "    for mseedid in list(set([tr.id for tr in stall])):\n",
    "        fn_out = \"{}_{}_{}.npz\".format(dataset, datestr, mseedid)\n",
    "        if os.path.isfile(fn_out):\n",
    "            print(\"%s done already.\"%fn_out)\n",
    "            continue\n",
    "        st = stall.select(id=mseedid)\n",
    "        st.attach_response(resp)\n",
    "        ppsd = PPSD(st[0].stats, metadata=resp,\n",
    "                    ppsd_length=1800, overlap=0.5,\n",
    "                    period_smoothing_width_octaves=0.025,\n",
    "                    period_step_octaves=0.0125,\n",
    "                    period_limits=(0.008, 50),\n",
    "                    db_bins=(-200, 20, 0.25))\n",
    "        ppsd.add(st)\n",
    "        ppsd.save_npz(fn_out[:-4])\n",
    "        print(st)\n",
    "        del st, ppsd\n",
    "    del stall\n"
   ]
  },
  {
   "cell_type": "markdown",
   "metadata": {},
   "source": [
    "## Step 5: Reload daily PSDs from the disk and create a single PPSD object:"
   ]
  },
  {
   "cell_type": "code",
   "execution_count": 6,
   "metadata": {
    "ExecuteTime": {
     "end_time": "2020-04-07T08:16:00.084449Z",
     "start_time": "2020-04-07T08:15:58.759987Z"
    },
    "scrolled": true
   },
   "outputs": [
    {
     "name": "stderr",
     "output_type": "stream",
     "text": [
      "/home/chambeca/miniconda3/envs/eqcorrscan/lib/python3.7/site-packages/obspy/signal/spectral_estimation.py:1539: UserWarning: 3/99 segments omitted in file 'WestCoast_2020-03-11_NZ.FOZ.11.HHZ.npz' (time ranges already covered).\n",
      "  warnings.warn(msg)\n",
      "/home/chambeca/miniconda3/envs/eqcorrscan/lib/python3.7/site-packages/obspy/signal/spectral_estimation.py:1539: UserWarning: 3/99 segments omitted in file 'WestCoast_2020-03-12_NZ.FOZ.11.HHZ.npz' (time ranges already covered).\n",
      "  warnings.warn(msg)\n",
      "/home/chambeca/miniconda3/envs/eqcorrscan/lib/python3.7/site-packages/obspy/signal/spectral_estimation.py:1539: UserWarning: 4/99 segments omitted in file 'WestCoast_2020-03-13_NZ.FOZ.11.HHZ.npz' (time ranges already covered).\n",
      "  warnings.warn(msg)\n",
      "/home/chambeca/miniconda3/envs/eqcorrscan/lib/python3.7/site-packages/obspy/signal/spectral_estimation.py:1539: UserWarning: 3/99 segments omitted in file 'WestCoast_2020-03-14_NZ.FOZ.11.HHZ.npz' (time ranges already covered).\n",
      "  warnings.warn(msg)\n",
      "/home/chambeca/miniconda3/envs/eqcorrscan/lib/python3.7/site-packages/obspy/signal/spectral_estimation.py:1539: UserWarning: 3/99 segments omitted in file 'WestCoast_2020-03-15_NZ.FOZ.11.HHZ.npz' (time ranges already covered).\n",
      "  warnings.warn(msg)\n",
      "/home/chambeca/miniconda3/envs/eqcorrscan/lib/python3.7/site-packages/obspy/signal/spectral_estimation.py:1539: UserWarning: 3/99 segments omitted in file 'WestCoast_2020-03-16_NZ.FOZ.11.HHZ.npz' (time ranges already covered).\n",
      "  warnings.warn(msg)\n",
      "/home/chambeca/miniconda3/envs/eqcorrscan/lib/python3.7/site-packages/obspy/signal/spectral_estimation.py:1539: UserWarning: 3/99 segments omitted in file 'WestCoast_2020-03-17_NZ.FOZ.11.HHZ.npz' (time ranges already covered).\n",
      "  warnings.warn(msg)\n",
      "/home/chambeca/miniconda3/envs/eqcorrscan/lib/python3.7/site-packages/obspy/signal/spectral_estimation.py:1539: UserWarning: 4/99 segments omitted in file 'WestCoast_2020-03-18_NZ.FOZ.11.HHZ.npz' (time ranges already covered).\n",
      "  warnings.warn(msg)\n",
      "/home/chambeca/miniconda3/envs/eqcorrscan/lib/python3.7/site-packages/obspy/signal/spectral_estimation.py:1539: UserWarning: 3/99 segments omitted in file 'WestCoast_2020-03-19_NZ.FOZ.11.HHZ.npz' (time ranges already covered).\n",
      "  warnings.warn(msg)\n",
      "/home/chambeca/miniconda3/envs/eqcorrscan/lib/python3.7/site-packages/obspy/signal/spectral_estimation.py:1539: UserWarning: 4/99 segments omitted in file 'WestCoast_2020-03-20_NZ.FOZ.11.HHZ.npz' (time ranges already covered).\n",
      "  warnings.warn(msg)\n",
      "/home/chambeca/miniconda3/envs/eqcorrscan/lib/python3.7/site-packages/obspy/signal/spectral_estimation.py:1539: UserWarning: 3/99 segments omitted in file 'WestCoast_2020-03-21_NZ.FOZ.11.HHZ.npz' (time ranges already covered).\n",
      "  warnings.warn(msg)\n",
      "/home/chambeca/miniconda3/envs/eqcorrscan/lib/python3.7/site-packages/obspy/signal/spectral_estimation.py:1539: UserWarning: 3/99 segments omitted in file 'WestCoast_2020-03-22_NZ.FOZ.11.HHZ.npz' (time ranges already covered).\n",
      "  warnings.warn(msg)\n",
      "/home/chambeca/miniconda3/envs/eqcorrscan/lib/python3.7/site-packages/obspy/signal/spectral_estimation.py:1539: UserWarning: 4/99 segments omitted in file 'WestCoast_2020-03-23_NZ.FOZ.11.HHZ.npz' (time ranges already covered).\n",
      "  warnings.warn(msg)\n",
      "/home/chambeca/miniconda3/envs/eqcorrscan/lib/python3.7/site-packages/obspy/signal/spectral_estimation.py:1539: UserWarning: 3/99 segments omitted in file 'WestCoast_2020-03-24_NZ.FOZ.11.HHZ.npz' (time ranges already covered).\n",
      "  warnings.warn(msg)\n",
      "/home/chambeca/miniconda3/envs/eqcorrscan/lib/python3.7/site-packages/obspy/signal/spectral_estimation.py:1539: UserWarning: 4/99 segments omitted in file 'WestCoast_2020-03-25_NZ.FOZ.11.HHZ.npz' (time ranges already covered).\n",
      "  warnings.warn(msg)\n",
      "/home/chambeca/miniconda3/envs/eqcorrscan/lib/python3.7/site-packages/obspy/signal/spectral_estimation.py:1539: UserWarning: 3/99 segments omitted in file 'WestCoast_2020-03-26_NZ.FOZ.11.HHZ.npz' (time ranges already covered).\n",
      "  warnings.warn(msg)\n",
      "/home/chambeca/miniconda3/envs/eqcorrscan/lib/python3.7/site-packages/obspy/signal/spectral_estimation.py:1539: UserWarning: 4/99 segments omitted in file 'WestCoast_2020-03-27_NZ.FOZ.11.HHZ.npz' (time ranges already covered).\n",
      "  warnings.warn(msg)\n",
      "/home/chambeca/miniconda3/envs/eqcorrscan/lib/python3.7/site-packages/obspy/signal/spectral_estimation.py:1539: UserWarning: 3/99 segments omitted in file 'WestCoast_2020-03-28_NZ.FOZ.11.HHZ.npz' (time ranges already covered).\n",
      "  warnings.warn(msg)\n",
      "/home/chambeca/miniconda3/envs/eqcorrscan/lib/python3.7/site-packages/obspy/signal/spectral_estimation.py:1539: UserWarning: 4/99 segments omitted in file 'WestCoast_2020-03-29_NZ.FOZ.11.HHZ.npz' (time ranges already covered).\n",
      "  warnings.warn(msg)\n",
      "/home/chambeca/miniconda3/envs/eqcorrscan/lib/python3.7/site-packages/obspy/signal/spectral_estimation.py:1539: UserWarning: 3/99 segments omitted in file 'WestCoast_2020-03-30_NZ.FOZ.11.HHZ.npz' (time ranges already covered).\n",
      "  warnings.warn(msg)\n",
      "/home/chambeca/miniconda3/envs/eqcorrscan/lib/python3.7/site-packages/obspy/signal/spectral_estimation.py:1539: UserWarning: 3/99 segments omitted in file 'WestCoast_2020-03-31_NZ.FOZ.11.HHZ.npz' (time ranges already covered).\n",
      "  warnings.warn(msg)\n",
      "/home/chambeca/miniconda3/envs/eqcorrscan/lib/python3.7/site-packages/obspy/signal/spectral_estimation.py:1539: UserWarning: 4/99 segments omitted in file 'WestCoast_2020-04-01_NZ.FOZ.11.HHZ.npz' (time ranges already covered).\n",
      "  warnings.warn(msg)\n",
      "/home/chambeca/miniconda3/envs/eqcorrscan/lib/python3.7/site-packages/obspy/signal/spectral_estimation.py:1539: UserWarning: 4/99 segments omitted in file 'WestCoast_2020-04-02_NZ.FOZ.11.HHZ.npz' (time ranges already covered).\n",
      "  warnings.warn(msg)\n",
      "/home/chambeca/miniconda3/envs/eqcorrscan/lib/python3.7/site-packages/obspy/signal/spectral_estimation.py:1539: UserWarning: 3/99 segments omitted in file 'WestCoast_2020-04-03_NZ.FOZ.11.HHZ.npz' (time ranges already covered).\n",
      "  warnings.warn(msg)\n",
      "/home/chambeca/miniconda3/envs/eqcorrscan/lib/python3.7/site-packages/obspy/signal/spectral_estimation.py:1539: UserWarning: 4/99 segments omitted in file 'WestCoast_2020-04-04_NZ.FOZ.11.HHZ.npz' (time ranges already covered).\n",
      "  warnings.warn(msg)\n",
      "/home/chambeca/miniconda3/envs/eqcorrscan/lib/python3.7/site-packages/obspy/signal/spectral_estimation.py:1539: UserWarning: 4/99 segments omitted in file 'WestCoast_2020-04-05_NZ.FOZ.11.HHZ.npz' (time ranges already covered).\n",
      "  warnings.warn(msg)\n",
      "/home/chambeca/miniconda3/envs/eqcorrscan/lib/python3.7/site-packages/obspy/signal/spectral_estimation.py:1539: UserWarning: 3/99 segments omitted in file 'WestCoast_2020-04-06_NZ.FOZ.11.HHZ.npz' (time ranges already covered).\n",
      "  warnings.warn(msg)\n",
      "/home/chambeca/miniconda3/envs/eqcorrscan/lib/python3.7/site-packages/obspy/signal/spectral_estimation.py:1539: UserWarning: 3/99 segments omitted in file 'WestCoast_2020-04-07_NZ.FOZ.11.HHZ.npz' (time ranges already covered).\n",
      "  warnings.warn(msg)\n",
      "/home/chambeca/miniconda3/envs/eqcorrscan/lib/python3.7/site-packages/obspy/signal/spectral_estimation.py:1539: UserWarning: 3/97 segments omitted in file 'WestCoast_2020-04-08_NZ.FOZ.11.HHZ.npz' (time ranges already covered).\n",
      "  warnings.warn(msg)\n",
      "/home/chambeca/miniconda3/envs/eqcorrscan/lib/python3.7/site-packages/obspy/signal/spectral_estimation.py:1539: UserWarning: 1/1 segments omitted in file 'WestCoast_2020-04-09_NZ.FOZ.11.HHZ.npz' (time ranges already covered).\n",
      "  warnings.warn(msg)\n",
      "/home/chambeca/miniconda3/envs/eqcorrscan/lib/python3.7/site-packages/obspy/signal/spectral_estimation.py:1539: UserWarning: 3/98 segments omitted in file 'WestCoast_2020-04-11_NZ.FOZ.11.HHZ.npz' (time ranges already covered).\n",
      "  warnings.warn(msg)\n",
      "/home/chambeca/miniconda3/envs/eqcorrscan/lib/python3.7/site-packages/obspy/signal/spectral_estimation.py:1539: UserWarning: 3/99 segments omitted in file 'WestCoast_2020-04-12_NZ.FOZ.11.HHZ.npz' (time ranges already covered).\n",
      "  warnings.warn(msg)\n",
      "/home/chambeca/miniconda3/envs/eqcorrscan/lib/python3.7/site-packages/obspy/signal/spectral_estimation.py:1539: UserWarning: 3/99 segments omitted in file 'WestCoast_2020-04-13_NZ.FOZ.11.HHZ.npz' (time ranges already covered).\n",
      "  warnings.warn(msg)\n"
     ]
    }
   ],
   "source": [
    "ppsds = {}\n",
    "for day in datelist:\n",
    "    datestr = day.strftime(\"%Y-%m-%d\")\n",
    "    fn_pattern = \"{}_{}_*.npz\".format(dataset, datestr)\n",
    "    for fn in glob(fn_pattern):\n",
    "        mseedid = fn.replace(\".npz\", \"\").split(\"_\")[-1]\n",
    "        if mseedid not in ppsds:\n",
    "            ppsds[mseedid] = PPSD.load_npz(fn, allow_pickle=True)\n",
    "        else:\n",
    "            ppsds[mseedid].add_npz(fn, allow_pickle=True)"
   ]
  },
  {
   "cell_type": "markdown",
   "metadata": {},
   "source": [
    "## Step 6: Standard plots:"
   ]
  },
  {
   "cell_type": "code",
   "execution_count": null,
   "metadata": {},
   "outputs": [
    {
     "name": "stderr",
     "output_type": "stream",
     "text": [
      "/home/chambeca/miniconda3/envs/eqcorrscan/lib/python3.7/site-packages/pandas/plotting/_converter.py:129: FutureWarning: Using an implicitly registered datetime converter for a matplotlib plotting method. The converter was registered by pandas on import. Future versions of pandas will require you to explicitly register matplotlib converters.\n",
      "\n",
      "To register the converters:\n",
      "\t>>> from pandas.plotting import register_matplotlib_converters\n",
      "\t>>> register_matplotlib_converters()\n",
      "  warnings.warn(msg, FutureWarning)\n"
     ]
    },
    {
     "data": {
      "image/png": "[encoded data removed]",
      "text/plain": [
       "<Figure size 432x288 with 3 Axes>"
      ]
     },
     "metadata": {
      "needs_background": "light"
     },
     "output_type": "display_data"
    },
    {
     "data": {
      "image/png": "[encoded data removed]",
      "text/plain": [
       "<Figure size 432x288 with 1 Axes>"
      ]
     },
     "metadata": {
      "needs_background": "light"
     },
     "output_type": "display_data"
    }
   ],
   "source": [
    "[ppsd.plot(max_percentage=10) for mseedid, ppsd in ppsds.items()]\n",
    "[ppsd.plot_temporal(0.10) for mseedid, ppsd in ppsds.items()]\n",
    "[ppsd.plot_spectrogram(clim=(-160,-100)) for mseedid, ppsd in ppsds.items()]"
   ]
  },
  {
   "cell_type": "markdown",
   "metadata": {},
   "source": [
    "## Step 7: Process PSDs to extract the RMS(displacement)\n",
    "\n",
    "This can be done for multiple filters at once (``freqs`` below):"
   ]
  },
  {
   "cell_type": "code",
   "execution_count": null,
   "metadata": {},
   "outputs": [],
   "source": [
    "# Define frequency bands of interest:\n",
    "freqs = [(0.1,1.0),(1.0,20.0),(4.0,14.0),(4.0,20.0)]\n",
    "\n",
    "\n",
    "def rms(s, f):\n",
    "    # Parseval: the RMS in time domain is the sqrt of the integral of the power spectrum\n",
    "    return np.sqrt(np.trapz(s, f))\n",
    "\n",
    "displacement_RMS = {}\n",
    "for mseedid, ppsd in ppsds.items():\n",
    "    per = ppsd.period_bin_centers\n",
    "    displacement_RMS[mseedid] = []\n",
    "    for psd in ppsd.psd_values:\n",
    "        RMS = {}\n",
    "        for fmin, fmax in freqs:\n",
    "            ix = np.where((per>=1.0/fmax) & (per<=1.0/fmin))\n",
    "\n",
    "            # acceleration power spectrum in Hz\n",
    "            spec = psd.copy()[ix][::-1]\n",
    "            f = 1.0/per.copy()[ix][::-1]\n",
    "\n",
    "            # remove NaNs from the list\n",
    "            valid = np.where(np.isfinite(spec))[0]\n",
    "            spec = spec[valid]\n",
    "            f = f[valid]\n",
    "\n",
    "            w2f = (2.0 * np.pi * f)\n",
    "\n",
    "            # The acceleration amplitude spectrum (dB to Power! = divide by 10 and not 20!)\n",
    "            amp = 10.0**(spec/10.) \n",
    "\n",
    "            # velocity spectrum (divide by omega**2)\n",
    "            vamp = amp / w2f**2\n",
    "\n",
    "            # displacement spectrum (divide by omega**2)\n",
    "            damp =  vamp / w2f**2\n",
    "\n",
    "            RMS[\"%.1f-%.1f\"%(fmin, fmax)] = rms(damp, f)\n",
    "\n",
    "        displacement_RMS[mseedid].append(RMS)\n",
    "        index = pd.DatetimeIndex([d.datetime for d in ppsd.times_processed])\n",
    "    displacement_RMS[mseedid] = pd.DataFrame(displacement_RMS[mseedid], index=index)\n",
    "    print(mseedid,\" rms done.\")"
   ]
  },
  {
   "cell_type": "markdown",
   "metadata": {},
   "source": [
    "## Step 8: Custom plot for a single frequency band:"
   ]
  },
  {
   "cell_type": "code",
   "execution_count": null,
   "metadata": {
    "ExecuteTime": {
     "end_time": "2020-04-07T08:21:06.120462Z",
     "start_time": "2020-04-07T08:21:04.268393Z"
    },
    "scrolled": false
   },
   "outputs": [],
   "source": [
    "band = \"4.0-14.0\"\n",
    "\n",
    "for mseedid in list(set(k[:-1] for k in displacement_RMS)):\n",
    "    net, sta, loc, chan = mseedid.split('.')\n",
    "    fig = plt.figure(figsize=(12,6))\n",
    "    if logo is not None:\n",
    "        fig.figimage(logo, 40, 40, alpha=.4, zorder=1)\n",
    "    \n",
    "    data={}\n",
    "    for o in 'ZEN':\n",
    "        if mseedid+o not in displacement_RMS:\n",
    "            continue\n",
    "        data[chan+o] = displacement_RMS[mseedid+o][band]\n",
    "        main = chan+o\n",
    "        \n",
    "    if len(data.keys())>1:\n",
    "        data[chan+'*'] = data[main].copy() # for the sum\n",
    "        main = chan+'*'\n",
    "        for i,t in enumerate(data[main].index):        \n",
    "            data[main][i] = 0\n",
    "            for o in data:\n",
    "                if o == main:\n",
    "                    continue\n",
    "                if len(data[o].index)-1<i:\n",
    "                    break\n",
    "                if abs(data[o].index[i].timestamp()-data[main].index[i].timestamp())<60:\n",
    "                    data[main][i] += data[o][i]**2\n",
    "            data[main][i] = data[main][i]**.5\n",
    "    \n",
    "    plt.plot(data[main].index, data[main], label = main)\n",
    "    \n",
    "    for o in data:\n",
    "        rs = data[o].copy().between_time(\"6:00\", \"16:00\")\n",
    "        rs = rs.resample(\"1D\" ).median().tshift(12, \"H\")\n",
    "        plt.plot(rs.index, rs, \n",
    "                 label=\"$\\overline{%s}$ (6h-16h)\"%o)\n",
    "\n",
    "    \n",
    "\n",
    "    # Get normal business days and set their background color to green\n",
    "    db = pd.bdate_range(start.datetime, end.datetime)\n",
    "    for dbi in db:\n",
    "        plt.axvspan(dbi, dbi+datetime.timedelta(days=1),\n",
    "                    facecolor='lightgreen', edgecolor=\"none\",\n",
    "                    alpha=0.2, zorder=-10)\n",
    "\n",
    "    scale = 1e9\n",
    "    plt.ylim(0,np.percentile(data[main],95)*1.5)\n",
    "    ticks = ticker.FuncFormatter(lambda x, pos: \"{0:g}\".format(x*scale))\n",
    "    plt.gca().yaxis.set_major_formatter(ticks)\n",
    "    plt.ylabel(\"Displacement (nm)\")\n",
    "\n",
    "    plt.title('Seismic Noise for {}.{}.{}.{} - Filter: [{}] Hz'.format(\n",
    "        net, sta, loc, main, band))\n",
    "    plt.xlim(data[main].index.min(), data[main].index.max())\n",
    "    fig.autofmt_xdate()\n",
    "    plt.grid(True, zorder=-1)\n",
    "    plt.gca().set_axisbelow(True)    \n",
    "    for iban,ban in enumerate(bans.keys()):\n",
    "        plt.axvline(UTCDateTime(ban).datetime,\n",
    "                    color='r', \n",
    "                    linewidth=2,\n",
    "                    linestyle=['-', '--', '-.', ':'][iban],\n",
    "                    path_effects=[pe.withStroke(linewidth=4, foreground=\"k\")],\n",
    "                    zorder=-9,\n",
    "                    label=bans[ban])\n",
    "    plt.legend(loc='center left', bbox_to_anchor=(1, 0.5))\n",
    "    plt.show()\n",
    "    fig.savefig(mseedid+\".pdf\",bbox_inches='tight')\n",
    "    fig.savefig(mseedid+\".png\",bbox_inches='tight')"
   ]
  },
  {
   "cell_type": "markdown",
   "metadata": {},
   "source": [
    "## Weekday / Time of day Analysis"
   ]
  },
  {
   "cell_type": "code",
   "execution_count": null,
   "metadata": {
    "ExecuteTime": {
     "end_time": "2020-04-07T08:37:06.562537Z",
     "start_time": "2020-04-07T08:37:06.544585Z"
    }
   },
   "outputs": [],
   "source": [
    "# Just a bunch of helper functions\n",
    "def stack_wday_time(df):\n",
    "    \"\"\"Takes a DateTimeIndex'ed DataFrame and returns the unstaked table: hours vs day name\"\"\"\n",
    "    return df.groupby(level=(0,1)).median().unstack(level=-1).T.droplevel(0)[days]*1e9\n",
    "\n",
    "def clock24_plot_commons():\n",
    "    # Set the circumference labels\n",
    "    ax.set_xticks(np.linspace(0, 2*np.pi, 24, endpoint=False))\n",
    "    ax.set_xticklabels([\"%i h\"%i for i in range(24)], fontsize=8)      \n",
    "    ax.set_yticklabels([\"%i nm\" % i for i in np.arange(0,100, 10)], fontsize=7)\n",
    "    ax.yaxis.set_tick_params(labelsize=8)\n",
    "\n",
    "    # Make the labels go clockwise\n",
    "    ax.set_theta_direction(-1)       \n",
    "\n",
    "    # Place 0 at the top\n",
    "    ax.set_theta_offset(np.pi/2.0)\n",
    "    plt.xlabel(\"Hour (local time)\", fontsize=10)\n",
    "    plt.grid(True)\n",
    "\n",
    "def radial_hours(N):\n",
    "    hours = np.deg2rad(np.linspace(0, 360, N-1, endpoint=False))\n",
    "    hours = np.append(hours, hours[0])\n",
    "    return hours\n",
    "\n",
    "def localize_tz_and_reindex(df, freq=\"15Min\"):\n",
    "    return df.copy().tz_localize(\"UTC\").dropna().tz_convert(time_zone).tz_localize(None).resample(freq).mean().to_frame()"
   ]
  },
  {
   "cell_type": "code",
   "execution_count": null,
   "metadata": {
    "ExecuteTime": {
     "end_time": "2020-04-07T08:37:09.110766Z",
     "start_time": "2020-04-07T08:37:07.011365Z"
    }
   },
   "outputs": [],
   "source": [
    "band = \"4.0-14.0\"\n",
    "\n",
    "for channelcode in list(set([k[:-1] for k in displacement_RMS])):\n",
    "    fig = plt.figure(figsize=(12,6))\n",
    "    if logo is not None:\n",
    "        fig.figimage(logo, 40, 40, alpha=.4, zorder=1)\n",
    "    \n",
    "    data={}\n",
    "    for o in 'ZEN':\n",
    "        if channelcode+o not in displacement_RMS :\n",
    "            continue\n",
    "        data[channelcode[-2:]+o] = displacement_RMS[channelcode+o][band]\n",
    "    \n",
    "    if len(data.keys())>1:\n",
    "        data[channelcode[-2:]+'*'] = data[main].copy() # for the sum\n",
    "        main=channelcode[-2:]+'*'\n",
    "        for i,t in enumerate(data[main].index):        \n",
    "            data[main][i] = 0\n",
    "            for o in data:\n",
    "                if o == main:\n",
    "                    continue\n",
    "                if len(data[o].index)-1<i:\n",
    "                    break\n",
    "                if abs(data[o].index[i].timestamp()-data[main].index[i].timestamp())<60:\n",
    "                    data[main][i] += data[o][i]**2\n",
    "            data[main][i] = data[main][i]**.5\n",
    "    \n",
    "    data[main] = localize_tz_and_reindex(data[main], \"15Min\")\n",
    "    preloc = data[main].loc[:list(bans.keys())[0]]\n",
    "    preloc = preloc.set_index([preloc.index.day_name(), preloc.index.hour+preloc.index.minute/60.])\n",
    "    postloc = data[main].loc[list(bans.keys())[0]:]\n",
    "    postloc = postloc.set_index([postloc.index.day_name(), postloc.index.hour+postloc.index.minute/60.])\n",
    "    \n",
    "    days = [ 'Monday', 'Tuesday', 'Wednesday', 'Thursday', 'Friday', 'Saturday', 'Sunday']\n",
    "    cmap = plt.get_cmap(\"tab20\")\n",
    "    \n",
    "    ax = stack_wday_time(preloc).plot(figsize=(14,8), cmap = cmap)\n",
    "    stack_wday_time(postloc).plot(ls=\"--\", ax=ax, legend=False,cmap = cmap)\n",
    "    \n",
    "    plt.title(\"Daily Noise Levels in %s.%s\" % (network, station))\n",
    "    plt.ylabel(\"Amplitude (nm)\")\n",
    "    plt.xlabel(\"Hour of day (local time)\")\n",
    "    plt.grid()\n",
    "    plt.xlim(0,23)\n",
    "    plt.show()\n",
    "    \n",
    "    # Polar/clock Plot:\n",
    "    _ = stack_wday_time(preloc).copy()\n",
    "    _.loc[len(_)+1] = _.iloc[0]\n",
    "    _.index = radial_hours(len(_))\n",
    "\n",
    "    plt.figure(figsize=(12,6))\n",
    "    ax = plt.subplot(121, polar=True)\n",
    "    _.plot(ax=ax)\n",
    "\n",
    "    plt.title(\"Before Lockdown\", fontsize=12)\n",
    "    clock24_plot_commons()\n",
    "\n",
    "    ax = plt.subplot(122, polar=True, sharey=ax)\n",
    "    _ = stack_wday_time(postloc).copy()\n",
    "    _.loc[len(_)+1] = _.iloc[0]\n",
    "    _.index = radial_hours(len(_))\n",
    "\n",
    "    _.plot(ax=ax, ls=\"--\")\n",
    "\n",
    "    plt.title(\"After Lockdown\", fontsize=12)\n",
    "    clock24_plot_commons()\n",
    "\n",
    "    plt.suptitle(\"Day/Hour Median Noise levels in Uccle (Brussels, BE)\\nStation %s - [%s] Hz\" % (station, band), fontsize=16)\n",
    "    plt.subplots_adjust(top=0.80)\n",
    "\n",
    "    plt.show()\n"
   ]
  },
  {
   "cell_type": "code",
   "execution_count": null,
   "metadata": {},
   "outputs": [],
   "source": []
  }
 ],
 "metadata": {
  "kernelspec": {
   "display_name": "Python 3",
   "language": "python",
   "name": "python3"
  },
  "language_info": {
   "codemirror_mode": {
    "name": "ipython",
    "version": 3
   },
   "file_extension": ".py",
   "mimetype": "text/x-python",
   "name": "python",
   "nbconvert_exporter": "python",
   "pygments_lexer": "ipython3",
   "version": "3.7.3"
  }
 },
 "nbformat": 4,
 "nbformat_minor": 2
}
